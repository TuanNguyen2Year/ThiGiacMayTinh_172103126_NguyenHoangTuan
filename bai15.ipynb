{
 "cells": [
  {
   "cell_type": "code",
   "execution_count": 7,
   "id": "342994c2-401b-47b0-9cb0-fba90b678537",
   "metadata": {},
   "outputs": [],
   "source": [
    "#!pip install scipy"
   ]
  },
  {
   "cell_type": "code",
   "execution_count": 8,
   "id": "ab045f5c-53af-441c-aba2-d845641581f8",
   "metadata": {},
   "outputs": [],
   "source": [
    "from scipy import linalg\n",
    "import numpy as np"
   ]
  },
  {
   "cell_type": "code",
   "execution_count": 10,
   "id": "3b51bf3d-bc45-42fb-99ec-01c7497f0306",
   "metadata": {},
   "outputs": [
    {
     "name": "stdout",
     "output_type": "stream",
     "text": [
      "Kết quả:  [ 1.50000000e+00 -8.32667268e-17]\n"
     ]
    }
   ],
   "source": [
    "A = np.array([[2, 1],[6,9]])\n",
    "b = np.array([3,9])\n",
    "x = linalg.solve(A, b)\n",
    "print(\"Kết quả: \", x)"
   ]
  },
  {
   "cell_type": "code",
   "execution_count": 26,
   "id": "51c5c18a-5e8f-4ca5-859a-0fdea098fbb4",
   "metadata": {},
   "outputs": [
    {
     "name": "stdout",
     "output_type": "stream",
     "text": [
      "Tích phân f(x) từ 0 đến 9:  (13751.550000000003, 1.5267287434284074e-10)\n"
     ]
    }
   ],
   "source": [
    "from scipy import integrate\n",
    "def my_function(x):\n",
    "    return x**4 +x**3+ x**2+ x+ 2\n",
    "integral = integrate.quad(my_function, 0, 9);\n",
    "print(\"Tích phân f(x) từ 0 đến 9: \", integral)"
   ]
  },
  {
   "cell_type": "code",
   "execution_count": 27,
   "id": "77ea30da-0c2e-4771-b0ca-68786702909d",
   "metadata": {},
   "outputs": [
    {
     "name": "stdout",
     "output_type": "stream",
     "text": [
      "Giá trị riêng:  [14.40312424+0.j  1.59687576+0.j]\n",
      "Vector riêng:  [[ 0.82869857 -0.73395654]\n",
      " [ 0.55969517  0.67919643]]\n"
     ]
    }
   ],
   "source": [
    "from scipy import linalg\n",
    "import numpy as np\n",
    "A = np.array([[9,8], [5,7]])\n",
    "evals, evecs = linalg.eig(A)\n",
    "print(\"Giá trị riêng: \", evals)\n",
    "print(\"Vector riêng: \", evecs)"
   ]
  }
 ],
 "metadata": {
  "kernelspec": {
   "display_name": "Python 3 (ipykernel)",
   "language": "python",
   "name": "python3"
  },
  "language_info": {
   "codemirror_mode": {
    "name": "ipython",
    "version": 3
   },
   "file_extension": ".py",
   "mimetype": "text/x-python",
   "name": "python",
   "nbconvert_exporter": "python",
   "pygments_lexer": "ipython3",
   "version": "3.12.4"
  }
 },
 "nbformat": 4,
 "nbformat_minor": 5
}
