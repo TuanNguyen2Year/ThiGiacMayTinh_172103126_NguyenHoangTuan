{
 "cells": [
  {
   "cell_type": "code",
   "execution_count": 1,
   "id": "70de743d-47a1-4b62-b92b-b99ce7bac621",
   "metadata": {},
   "outputs": [],
   "source": [
    "import cv2\n"
   ]
  },
  {
   "cell_type": "code",
   "execution_count": 2,
   "id": "e86ce19f-a3e3-4e75-9e8f-f2e7050828a6",
   "metadata": {},
   "outputs": [],
   "source": [
    "my_video = cv2.VideoCapture('E:/thigiacmaytinh/images/test.mp4')"
   ]
  },
  {
   "cell_type": "code",
   "execution_count": 3,
   "id": "0df16d5c-0982-4814-b6c6-bdfbc2f7453d",
   "metadata": {},
   "outputs": [],
   "source": [
    "cv2.namedWindow('Video Player', cv2.WINDOW_NORMAL)"
   ]
  },
  {
   "cell_type": "code",
   "execution_count": 4,
   "id": "543677a8-9dad-4c8a-9a5b-7d36c9b93a78",
   "metadata": {},
   "outputs": [],
   "source": [
    "while True:\n",
    "    # Đọc 1 frame\n",
    "    ret, frame = my_video.read()\n",
    "    \n",
    "    # Thoát khi không thể đọc được frame\n",
    "    if not ret:\n",
    "        break\n",
    "    \n",
    "    # Hiển thị\n",
    "    cv2.imshow('Video Player', frame)\n",
    "    \n",
    "    if(cv2.waitKey(10)==ord('q')):\n",
    "        break"
   ]
  },
  {
   "cell_type": "code",
   "execution_count": null,
   "id": "bf55eb59-168c-4f5e-80eb-62e1853d3553",
   "metadata": {},
   "outputs": [],
   "source": [
    "my_video.release\n",
    "cv2.destroyAllWindows()"
   ]
  }
 ],
 "metadata": {
  "kernelspec": {
   "display_name": "Python 3 (ipykernel)",
   "language": "python",
   "name": "python3"
  },
  "language_info": {
   "codemirror_mode": {
    "name": "ipython",
    "version": 3
   },
   "file_extension": ".py",
   "mimetype": "text/x-python",
   "name": "python",
   "nbconvert_exporter": "python",
   "pygments_lexer": "ipython3",
   "version": "3.12.4"
  }
 },
 "nbformat": 4,
 "nbformat_minor": 5
}
